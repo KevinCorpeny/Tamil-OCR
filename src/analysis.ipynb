{
 "cells": [
  {
   "cell_type": "code",
   "execution_count": 2,
   "id": "9e0a6de5",
   "metadata": {},
   "outputs": [],
   "source": [
    "import numpy as np\n",
    "import h5py"
   ]
  },
  {
   "cell_type": "code",
   "execution_count": 7,
   "id": "d016bb67",
   "metadata": {},
   "outputs": [
    {
     "name": "stdout",
     "output_type": "stream",
     "text": [
      "Items in base dir: [('Test Data', <HDF5 group \"/Test Data\" (2 members)>), ('Train Data', <HDF5 group \"/Train Data\" (2 members)>)]\n",
      "items in group 1: [('x_train', <HDF5 dataset \"x_train\": shape (62870, 64, 64), type \"|u1\">), ('y_train', <HDF5 dataset \"y_train\": shape (62870,), type \"<i8\">)]\n",
      "items in group 2: [('x_test', <HDF5 dataset \"x_test\": shape (28080, 64, 64), type \"|u1\">), ('y_test', <HDF5 dataset \"y_test\": shape (28080,), type \"<i8\">)]\n"
     ]
    },
    {
     "data": {
      "text/plain": [
       "array([[[255, 255, 255, ..., 255, 255, 255],\n",
       "        [255, 255, 255, ..., 255, 255, 255],\n",
       "        [255, 255, 255, ..., 255, 255, 255],\n",
       "        ...,\n",
       "        [255, 255, 255, ..., 255, 255, 255],\n",
       "        [255, 255, 255, ..., 255, 255, 255],\n",
       "        [255, 255, 255, ..., 255, 255, 255]],\n",
       "\n",
       "       [[255, 255, 255, ..., 255, 255, 255],\n",
       "        [255, 255, 255, ..., 255, 255, 255],\n",
       "        [255, 255, 255, ..., 255, 255, 255],\n",
       "        ...,\n",
       "        [255, 255, 255, ..., 255, 255, 255],\n",
       "        [255, 255, 255, ..., 255, 255, 255],\n",
       "        [255, 255, 255, ..., 255, 255, 255]],\n",
       "\n",
       "       [[255, 255, 255, ..., 255, 255, 255],\n",
       "        [255, 255, 255, ..., 255, 255, 255],\n",
       "        [255, 255, 255, ...,   0, 255, 255],\n",
       "        ...,\n",
       "        [255, 255, 255, ..., 255, 255, 255],\n",
       "        [255, 255, 255, ..., 255, 255, 255],\n",
       "        [255, 255, 255, ..., 255, 255, 255]],\n",
       "\n",
       "       ...,\n",
       "\n",
       "       [[255, 255, 255, ..., 255, 255, 255],\n",
       "        [255, 255, 255, ..., 255, 255, 255],\n",
       "        [255, 255, 255, ...,   0, 255, 255],\n",
       "        ...,\n",
       "        [255, 255, 255, ..., 255, 255, 255],\n",
       "        [255, 255, 255, ..., 255, 255, 255],\n",
       "        [255, 255, 255, ..., 255, 255, 255]],\n",
       "\n",
       "       [[255, 255, 255, ..., 255, 255, 255],\n",
       "        [255, 255, 255, ..., 255, 255, 255],\n",
       "        [255, 255, 255, ..., 255, 255, 255],\n",
       "        ...,\n",
       "        [255, 255, 255, ..., 255, 255, 255],\n",
       "        [255, 255, 255, ..., 255, 255, 255],\n",
       "        [255, 255, 255, ..., 255, 255, 255]],\n",
       "\n",
       "       [[255, 255, 255, ..., 255, 255, 255],\n",
       "        [255, 255, 255, ..., 255, 255, 255],\n",
       "        [255, 255, 255, ..., 255, 255, 255],\n",
       "        ...,\n",
       "        [255, 255, 255, ..., 255, 255, 255],\n",
       "        [255, 255, 255, ..., 255, 255, 255],\n",
       "        [255, 255, 255, ..., 255, 255, 255]]], dtype=uint8)"
      ]
     },
     "execution_count": 7,
     "metadata": {},
     "output_type": "execute_result"
    }
   ],
   "source": [
    "#let's extract our training, test and validation data\n",
    "#method seen in [1] p21\n",
    "with h5py.File('../HDF5/hdf5_uTHCD_compressed.h5', 'r') as hdf:\n",
    "    base_items = list(hdf.items())\n",
    "    print(f'Items in base dir: {base_items}')\n",
    "    G1 = hdf.get('Train Data')\n",
    "    G1_items = list(G1.items())\n",
    "    print(f'items in group 1: {G1_items}')\n",
    "    \n",
    "    G2 = hdf.get('Test Data')\n",
    "    G2_items = list(G2.items())\n",
    "    print(f'items in group 2: {G2_items}')\n",
    "    \n",
    "    x_train = np.array(G1.get('x_train'))\n",
    "    y_train = np.array(G1.get('y_train'))\n",
    "    \n",
    "    x_test = np.array(G2.get('x_test'))\n",
    "    y_test = np.array(G2.get('y_test'))\n",
    "    \n",
    "    x_val = x_train[-7870:,:,:]\n",
    "    y_val = y_train[-7870:]\n",
    "    \n",
    "    x_train = x_train[:-7870,:,:]\n",
    "    y_train = y_train[:-7870]\n",
    "    \n",
    "x_train"
   ]
  },
  {
   "cell_type": "code",
   "execution_count": null,
   "id": "43c085fb",
   "metadata": {},
   "outputs": [],
   "source": []
  }
 ],
 "metadata": {
  "kernelspec": {
   "display_name": "Python 3 (ipykernel)",
   "language": "python",
   "name": "python3"
  },
  "language_info": {
   "codemirror_mode": {
    "name": "ipython",
    "version": 3
   },
   "file_extension": ".py",
   "mimetype": "text/x-python",
   "name": "python",
   "nbconvert_exporter": "python",
   "pygments_lexer": "ipython3",
   "version": "3.10.12"
  }
 },
 "nbformat": 4,
 "nbformat_minor": 5
}
